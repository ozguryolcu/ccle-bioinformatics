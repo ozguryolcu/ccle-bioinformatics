{
 "cells": [
  {
   "cell_type": "code",
   "execution_count": 2,
   "metadata": {},
   "outputs": [],
   "source": [
    "import pandas as pd\n",
    "import numpy as np\n",
    "import matplotlib.pyplot as plt\n",
    "\n",
    "pd.options.display.max_columns = None\n",
    "pd.options.display.max_rows = None"
   ]
  },
  {
   "cell_type": "code",
   "execution_count": 3,
   "metadata": {},
   "outputs": [],
   "source": [
    "dfDrugData = pd.read_csv(\"C:\\\\Users\\\\ozgur\\\\Desktop\\\\CCLE_NP24.2009_Drug_data_2015.02.24 (2).csv\")\n",
    "dfExpressionArrays = pd.read_csv(\"C:\\\\Users\\\\ozgur\\\\Desktop\\\\CCLE_Expression.Arrays.sif_2012-10-18.txt\", sep=\"\\t\")"
   ]
  },
  {
   "cell_type": "code",
   "execution_count": 4,
   "metadata": {},
   "outputs": [],
   "source": [
    "dbDrug = pd.DataFrame(dfDrugData)\n",
    "dbExpression = pd.DataFrame(dfExpressionArrays)"
   ]
  },
  {
   "cell_type": "code",
   "execution_count": 5,
   "metadata": {},
   "outputs": [
    {
     "data": {
      "text/html": [
       "<div>\n",
       "<style scoped>\n",
       "    .dataframe tbody tr th:only-of-type {\n",
       "        vertical-align: middle;\n",
       "    }\n",
       "\n",
       "    .dataframe tbody tr th {\n",
       "        vertical-align: top;\n",
       "    }\n",
       "\n",
       "    .dataframe thead th {\n",
       "        text-align: right;\n",
       "    }\n",
       "</style>\n",
       "<table border=\"1\" class=\"dataframe\">\n",
       "  <thead>\n",
       "    <tr style=\"text-align: right;\">\n",
       "      <th></th>\n",
       "      <th>CCLE Cell Line Name</th>\n",
       "      <th>Primary Cell Line Name</th>\n",
       "      <th>Compound</th>\n",
       "      <th>Target</th>\n",
       "      <th>Doses (uM)</th>\n",
       "      <th>Activity Data (median)</th>\n",
       "      <th>Activity SD</th>\n",
       "      <th>Num Data</th>\n",
       "      <th>FitType</th>\n",
       "      <th>EC50 (uM)</th>\n",
       "      <th>IC50 (uM)</th>\n",
       "      <th>Amax</th>\n",
       "      <th>ActArea</th>\n",
       "    </tr>\n",
       "  </thead>\n",
       "  <tbody>\n",
       "    <tr>\n",
       "      <th>0</th>\n",
       "      <td>1321N1_CENTRAL_NERVOUS_SYSTEM</td>\n",
       "      <td>1321N1</td>\n",
       "      <td>AEW541</td>\n",
       "      <td>IGF1R</td>\n",
       "      <td>.0025,.0080,.025,.080,.25,.80,2.53,8</td>\n",
       "      <td>8.67,11.0,2.16,.27,-10,-13,-26,-43</td>\n",
       "      <td>3.31,3.72,5.36,4.67,13.1,.18,2.42,7.51</td>\n",
       "      <td>8</td>\n",
       "      <td>Sigmoid</td>\n",
       "      <td>8.717774</td>\n",
       "      <td>8.000000</td>\n",
       "      <td>-42.558014</td>\n",
       "      <td>0.7124</td>\n",
       "    </tr>\n",
       "    <tr>\n",
       "      <th>1</th>\n",
       "      <td>22RV1_PROSTATE</td>\n",
       "      <td>22Rv1</td>\n",
       "      <td>AEW541</td>\n",
       "      <td>IGF1R</td>\n",
       "      <td>.0025,.0080,.025,.080,.25,.80,2.53,8</td>\n",
       "      <td>.94,12.5,-14,4.16,-25,-32,-52,-71</td>\n",
       "      <td>1.95,13.3,6.98,21.8,16.0,18.8,4.84,7.93</td>\n",
       "      <td>8</td>\n",
       "      <td>Sigmoid</td>\n",
       "      <td>8.165164</td>\n",
       "      <td>2.329924</td>\n",
       "      <td>-71.589340</td>\n",
       "      <td>1.6723</td>\n",
       "    </tr>\n",
       "    <tr>\n",
       "      <th>2</th>\n",
       "      <td>42MGBA_CENTRAL_NERVOUS_SYSTEM</td>\n",
       "      <td>42-MG-BA</td>\n",
       "      <td>AEW541</td>\n",
       "      <td>IGF1R</td>\n",
       "      <td>.0025,.0080,.025,.080,.25,.80,2.53,8</td>\n",
       "      <td>8.91,8.39,-3.5,12.4,-.55,-6.2,-48,-63</td>\n",
       "      <td>13.7,7.70,11.1,6.43,24.0,9.57,9.57,10.4</td>\n",
       "      <td>8</td>\n",
       "      <td>Sigmoid</td>\n",
       "      <td>1.514508</td>\n",
       "      <td>2.682130</td>\n",
       "      <td>-63.491371</td>\n",
       "      <td>1.1852</td>\n",
       "    </tr>\n",
       "    <tr>\n",
       "      <th>3</th>\n",
       "      <td>5637_URINARY_TRACT</td>\n",
       "      <td>5637</td>\n",
       "      <td>AEW541</td>\n",
       "      <td>IGF1R</td>\n",
       "      <td>.0025,.0080,.025,.080,.25,.80,2.53,8</td>\n",
       "      <td>2.15,9.91,-3.5,.056,-2.1,-14,-30,-62</td>\n",
       "      <td>4.05,9.75,12.7,4.36,11.0,10.0,24.6,.14</td>\n",
       "      <td>8</td>\n",
       "      <td>Sigmoid</td>\n",
       "      <td>8.006595</td>\n",
       "      <td>5.002314</td>\n",
       "      <td>-62.352776</td>\n",
       "      <td>0.9948</td>\n",
       "    </tr>\n",
       "    <tr>\n",
       "      <th>4</th>\n",
       "      <td>639V_URINARY_TRACT</td>\n",
       "      <td>639-V</td>\n",
       "      <td>AEW541</td>\n",
       "      <td>IGF1R</td>\n",
       "      <td>.0025,.0080,.025,.080,.25,.80,2.53,8</td>\n",
       "      <td>11.8,-7.3,-9.4,-15,-11,-21,-53,-50</td>\n",
       "      <td>.95,5.67,11.1,.68,31.6,22.3,1.45,3.08</td>\n",
       "      <td>8</td>\n",
       "      <td>Sigmoid</td>\n",
       "      <td>0.931196</td>\n",
       "      <td>1.736181</td>\n",
       "      <td>-51.959808</td>\n",
       "      <td>1.5436</td>\n",
       "    </tr>\n",
       "  </tbody>\n",
       "</table>\n",
       "</div>"
      ],
      "text/plain": [
       "             CCLE Cell Line Name Primary Cell Line Name Compound Target  \\\n",
       "0  1321N1_CENTRAL_NERVOUS_SYSTEM                 1321N1   AEW541  IGF1R   \n",
       "1                 22RV1_PROSTATE                  22Rv1   AEW541  IGF1R   \n",
       "2  42MGBA_CENTRAL_NERVOUS_SYSTEM               42-MG-BA   AEW541  IGF1R   \n",
       "3             5637_URINARY_TRACT                   5637   AEW541  IGF1R   \n",
       "4             639V_URINARY_TRACT                  639-V   AEW541  IGF1R   \n",
       "\n",
       "                             Doses (uM)  \\\n",
       "0  .0025,.0080,.025,.080,.25,.80,2.53,8   \n",
       "1  .0025,.0080,.025,.080,.25,.80,2.53,8   \n",
       "2  .0025,.0080,.025,.080,.25,.80,2.53,8   \n",
       "3  .0025,.0080,.025,.080,.25,.80,2.53,8   \n",
       "4  .0025,.0080,.025,.080,.25,.80,2.53,8   \n",
       "\n",
       "                  Activity Data (median)  \\\n",
       "0     8.67,11.0,2.16,.27,-10,-13,-26,-43   \n",
       "1      .94,12.5,-14,4.16,-25,-32,-52,-71   \n",
       "2  8.91,8.39,-3.5,12.4,-.55,-6.2,-48,-63   \n",
       "3   2.15,9.91,-3.5,.056,-2.1,-14,-30,-62   \n",
       "4     11.8,-7.3,-9.4,-15,-11,-21,-53,-50   \n",
       "\n",
       "                               Activity SD  Num Data  FitType  EC50 (uM)  \\\n",
       "0   3.31,3.72,5.36,4.67,13.1,.18,2.42,7.51         8  Sigmoid   8.717774   \n",
       "1  1.95,13.3,6.98,21.8,16.0,18.8,4.84,7.93         8  Sigmoid   8.165164   \n",
       "2  13.7,7.70,11.1,6.43,24.0,9.57,9.57,10.4         8  Sigmoid   1.514508   \n",
       "3   4.05,9.75,12.7,4.36,11.0,10.0,24.6,.14         8  Sigmoid   8.006595   \n",
       "4    .95,5.67,11.1,.68,31.6,22.3,1.45,3.08         8  Sigmoid   0.931196   \n",
       "\n",
       "   IC50 (uM)       Amax  ActArea  \n",
       "0   8.000000 -42.558014   0.7124  \n",
       "1   2.329924 -71.589340   1.6723  \n",
       "2   2.682130 -63.491371   1.1852  \n",
       "3   5.002314 -62.352776   0.9948  \n",
       "4   1.736181 -51.959808   1.5436  "
      ]
     },
     "execution_count": 5,
     "metadata": {},
     "output_type": "execute_result"
    }
   ],
   "source": [
    "dbDrug.head()"
   ]
  },
  {
   "cell_type": "code",
   "execution_count": 6,
   "metadata": {},
   "outputs": [
    {
     "data": {
      "text/html": [
       "<div>\n",
       "<style scoped>\n",
       "    .dataframe tbody tr th:only-of-type {\n",
       "        vertical-align: middle;\n",
       "    }\n",
       "\n",
       "    .dataframe tbody tr th {\n",
       "        vertical-align: top;\n",
       "    }\n",
       "\n",
       "    .dataframe thead th {\n",
       "        text-align: right;\n",
       "    }\n",
       "</style>\n",
       "<table border=\"1\" class=\"dataframe\">\n",
       "  <thead>\n",
       "    <tr style=\"text-align: right;\">\n",
       "      <th></th>\n",
       "      <th>ID</th>\n",
       "      <th>CCLE name</th>\n",
       "      <th>Cell line primary name</th>\n",
       "      <th>Gender</th>\n",
       "      <th>Batch</th>\n",
       "      <th>Site Primary</th>\n",
       "      <th>Histology</th>\n",
       "      <th>Hist Subtype1</th>\n",
       "    </tr>\n",
       "  </thead>\n",
       "  <tbody>\n",
       "    <tr>\n",
       "      <th>0</th>\n",
       "      <td>METIS_p_NCLE_RNA1_Human_U133_Plus_2.0_A02_240852</td>\n",
       "      <td>LN18_CENTRAL_NERVOUS_SYSTEM</td>\n",
       "      <td>LN-18</td>\n",
       "      <td>M</td>\n",
       "      <td>1</td>\n",
       "      <td>central_nervous_system</td>\n",
       "      <td>glioma</td>\n",
       "      <td>astrocytoma_Grade_IV</td>\n",
       "    </tr>\n",
       "    <tr>\n",
       "      <th>1</th>\n",
       "      <td>METIS_p_NCLE_RNA1_Human_U133_Plus_2.0_A05_240858</td>\n",
       "      <td>769P_KIDNEY</td>\n",
       "      <td>769-P</td>\n",
       "      <td>F</td>\n",
       "      <td>1</td>\n",
       "      <td>kidney</td>\n",
       "      <td>carcinoma</td>\n",
       "      <td>clear_cell_renal_cell_carcinoma</td>\n",
       "    </tr>\n",
       "    <tr>\n",
       "      <th>2</th>\n",
       "      <td>METIS_p_NCLE_RNA1_Human_U133_Plus_2.0_A07_240862</td>\n",
       "      <td>786O_KIDNEY</td>\n",
       "      <td>786-O</td>\n",
       "      <td>M</td>\n",
       "      <td>1</td>\n",
       "      <td>kidney</td>\n",
       "      <td>carcinoma</td>\n",
       "      <td>clear_cell_renal_cell_carcinoma</td>\n",
       "    </tr>\n",
       "    <tr>\n",
       "      <th>3</th>\n",
       "      <td>METIS_p_NCLE_RNA1_Human_U133_Plus_2.0_A08_240864</td>\n",
       "      <td>CAOV3_OVARY</td>\n",
       "      <td>Caov-3</td>\n",
       "      <td>F</td>\n",
       "      <td>1</td>\n",
       "      <td>ovary</td>\n",
       "      <td>carcinoma</td>\n",
       "      <td>adenocarcinoma</td>\n",
       "    </tr>\n",
       "    <tr>\n",
       "      <th>4</th>\n",
       "      <td>METIS_p_NCLE_RNA1_Human_U133_Plus_2.0_A09_240866</td>\n",
       "      <td>HEPG2_LIVER</td>\n",
       "      <td>Hep G2</td>\n",
       "      <td>M</td>\n",
       "      <td>1</td>\n",
       "      <td>liver</td>\n",
       "      <td>carcinoma</td>\n",
       "      <td>hepatocellular_carcinoma</td>\n",
       "    </tr>\n",
       "  </tbody>\n",
       "</table>\n",
       "</div>"
      ],
      "text/plain": [
       "                                                 ID  \\\n",
       "0  METIS_p_NCLE_RNA1_Human_U133_Plus_2.0_A02_240852   \n",
       "1  METIS_p_NCLE_RNA1_Human_U133_Plus_2.0_A05_240858   \n",
       "2  METIS_p_NCLE_RNA1_Human_U133_Plus_2.0_A07_240862   \n",
       "3  METIS_p_NCLE_RNA1_Human_U133_Plus_2.0_A08_240864   \n",
       "4  METIS_p_NCLE_RNA1_Human_U133_Plus_2.0_A09_240866   \n",
       "\n",
       "                     CCLE name Cell line primary name Gender  Batch  \\\n",
       "0  LN18_CENTRAL_NERVOUS_SYSTEM                  LN-18      M      1   \n",
       "1                  769P_KIDNEY                  769-P      F      1   \n",
       "2                  786O_KIDNEY                  786-O      M      1   \n",
       "3                  CAOV3_OVARY                 Caov-3      F      1   \n",
       "4                  HEPG2_LIVER                 Hep G2      M      1   \n",
       "\n",
       "             Site Primary  Histology                    Hist Subtype1  \n",
       "0  central_nervous_system     glioma             astrocytoma_Grade_IV  \n",
       "1                  kidney  carcinoma  clear_cell_renal_cell_carcinoma  \n",
       "2                  kidney  carcinoma  clear_cell_renal_cell_carcinoma  \n",
       "3                   ovary  carcinoma                   adenocarcinoma  \n",
       "4                   liver  carcinoma         hepatocellular_carcinoma  "
      ]
     },
     "execution_count": 6,
     "metadata": {},
     "output_type": "execute_result"
    }
   ],
   "source": [
    "dbExpression.head()"
   ]
  },
  {
   "cell_type": "code",
   "execution_count": 7,
   "metadata": {},
   "outputs": [
    {
     "data": {
      "text/plain": [
       "24"
      ]
     },
     "execution_count": 7,
     "metadata": {},
     "output_type": "execute_result"
    }
   ],
   "source": [
    "dbDrug[\"Compound\"].nunique() \n",
    "# 24 tane ilaç kullanılmış olduğunu bilmediğimi varsayarak kullanılan ilaç sayısını tespit ediyorum."
   ]
  },
  {
   "cell_type": "code",
   "execution_count": 8,
   "metadata": {},
   "outputs": [
    {
     "data": {
      "text/plain": [
       "504"
      ]
     },
     "execution_count": 8,
     "metadata": {},
     "output_type": "execute_result"
    }
   ],
   "source": [
    "dbDrug[\"Primary Cell Line Name\"].count()\n",
    "dbDrug[\"Primary Cell Line Name\"].value_counts()\n",
    "dbDrug[\"Primary Cell Line Name\"].unique()\n",
    "dbDrug[\"Primary Cell Line Name\"].nunique()\n",
    "\n",
    "# Bu dört satırda da 11670 satırda 504 farklı hücre hattının 17 ile 24 kere arasında kullanıldığını görüyorum. TE-11 Hattı en az kullanılan hat."
   ]
  },
  {
   "cell_type": "code",
   "execution_count": 9,
   "metadata": {},
   "outputs": [],
   "source": [
    "dbDrugSubset = dbDrug[[\"Primary Cell Line Name\", \"Compound\", \"IC50 (uM)\", \"ActArea\"]]\n",
    "# İstediğiniz şekilde Activity Area, IC50, İlaç ve Hücre Hattı isimlerinin olduğu bir subset oluşturdum."
   ]
  },
  {
   "cell_type": "code",
   "execution_count": 10,
   "metadata": {},
   "outputs": [],
   "source": [
    "dbDrugSubset.to_csv(\"C:\\\\Users\\\\ozgur\\\\Desktop\\\\drugSubSet.csv\") \n",
    "# Oluşturduğum subsetin csv dosyası olarak çıktısını alıyorum."
   ]
  },
  {
   "cell_type": "code",
   "execution_count": 11,
   "metadata": {},
   "outputs": [
    {
     "data": {
      "text/plain": [
       "305"
      ]
     },
     "execution_count": 11,
     "metadata": {},
     "output_type": "execute_result"
    }
   ],
   "source": [
    "listFilter = dbDrug[\"Primary Cell Line Name\"].value_counts() == 24\n",
    "len(list(filter(lambda x: x == True, listFilter)))\n"
   ]
  },
  {
   "cell_type": "code",
   "execution_count": 12,
   "metadata": {},
   "outputs": [],
   "source": [
    "def getCancerType(cellLine=str):\n",
    "        x = cellLine.split(\"_\")\n",
    "        y = \" \".join(x[1:])\n",
    "        if y == \"\":\n",
    "                return \"UNDEFINED\"\n",
    "        return y"
   ]
  },
  {
   "cell_type": "code",
   "execution_count": 13,
   "metadata": {},
   "outputs": [
    {
     "data": {
      "text/plain": [
       "'UNDEFINED'"
      ]
     },
     "execution_count": 13,
     "metadata": {},
     "output_type": "execute_result"
    }
   ],
   "source": [
    "getCancerType(\"asdasdgdsggsdgsdgsh\")"
   ]
  },
  {
   "cell_type": "code",
   "execution_count": 15,
   "metadata": {},
   "outputs": [
    {
     "data": {
      "text/plain": [
       "LUNG                                  2157\n",
       "HAEMATOPOIETIC AND LYMPHOID TISSUE    1677\n",
       "SKIN                                   936\n",
       "OVARY                                  706\n",
       "BREAST                                 701\n",
       "PANCREAS                               691\n",
       "CENTRAL NERVOUS SYSTEM                 669\n",
       "LARGE INTESTINE                        535\n",
       "ENDOMETRIUM                            458\n",
       "STOMACH                                444\n",
       "LIVER                                  434\n",
       "OESOPHAGUS                             339\n",
       "URINARY TRACT                          334\n",
       "SOFT TISSUE                            267\n",
       "BONE                                   260\n",
       "AUTONOMIC GANGLIA                      223\n",
       "KIDNEY                                 209\n",
       "PLEURA                                 165\n",
       "UPPER AERODIGESTIVE TRACT              156\n",
       "THYROID                                120\n",
       "PROSTATE                                72\n",
       "UNDEFINED                               70\n",
       "BILIARY TRACT                           24\n",
       "SALIVARY GLAND                          23\n",
       "Name: Cancer Type, dtype: int64"
      ]
     },
     "execution_count": 15,
     "metadata": {},
     "output_type": "execute_result"
    }
   ],
   "source": [
    "dbDrug[\"Cancer Type\"] = dbDrug[\"CCLE Cell Line Name\"].apply(getCancerType)\n",
    "dbDrug[\"Cancer Type\"].value_counts()"
   ]
  },
  {
   "cell_type": "code",
   "execution_count": null,
   "metadata": {},
   "outputs": [
    {
     "data": {
      "text/plain": [
       "Topotecan       504\n",
       "TKI258          504\n",
       "TAE684          504\n",
       "Lapatinib       504\n",
       "Nutlin-3        504\n",
       "AZD0530         504\n",
       "PF2341066       504\n",
       "PD-0325901      504\n",
       "AEW541          503\n",
       "AZD6244         503\n",
       "Paclitaxel      503\n",
       "LBW242          503\n",
       "Erlotinib       503\n",
       "Sorafenib       503\n",
       "PHA-665752      503\n",
       "17-AAG          503\n",
       "Panobinostat    500\n",
       "ZD-6474         496\n",
       "PLX4720         496\n",
       "L-685458        491\n",
       "RAF265          460\n",
       "PD-0332991      434\n",
       "Nilotinib       420\n",
       "Irinotecan      317\n",
       "Name: Compound, dtype: int64"
      ]
     },
     "execution_count": 99,
     "metadata": {},
     "output_type": "execute_result"
    }
   ],
   "source": [
    "dbDrug[\"Compound\"].value_counts()"
   ]
  }
 ],
 "metadata": {
  "kernelspec": {
   "display_name": "Python 3",
   "language": "python",
   "name": "python3"
  },
  "language_info": {
   "codemirror_mode": {
    "name": "ipython",
    "version": 3
   },
   "file_extension": ".py",
   "mimetype": "text/x-python",
   "name": "python",
   "nbconvert_exporter": "python",
   "pygments_lexer": "ipython3",
   "version": "3.10.4"
  },
  "orig_nbformat": 4,
  "vscode": {
   "interpreter": {
    "hash": "8a6669e69fc028c38c709d12abcb9b4b9b435be10e59dab757af8d67e5547dda"
   }
  }
 },
 "nbformat": 4,
 "nbformat_minor": 2
}
